{
  "nbformat": 4,
  "nbformat_minor": 0,
  "metadata": {
    "colab": {
      "provenance": []
    },
    "kernelspec": {
      "name": "python3",
      "display_name": "Python 3"
    },
    "language_info": {
      "name": "python"
    }
  },
  "cells": [
    {
      "cell_type": "code",
      "execution_count": 10,
      "metadata": {
        "colab": {
          "base_uri": "https://localhost:8080/"
        },
        "id": "nCuFK5pavInt",
        "outputId": "0645b790-9841-4824-c728-69ee0d2967fa"
      },
      "outputs": [
        {
          "output_type": "stream",
          "name": "stdout",
          "text": [
            "8.58\n",
            "3.891116009744203\n"
          ]
        }
      ],
      "source": [
        "# Implementation of the Simple Linear Regression from scratch\n",
        "# The code is based on the mathematical formulation of the algorithm\n",
        "# Author: Muhammad Humayun Khan\n",
        "\n",
        "class ownLinearRegression():\n",
        "  def __init__(self):\n",
        "    self.m = None\n",
        "    self.b = None\n",
        "\n",
        "  def fit(self,X_train,y_train):\n",
        "    # here we have to find the m and b\n",
        "    # for the m, find the numerator and denomenator\n",
        "    numerator = 0\n",
        "    denomenator = 0\n",
        "    for i in range(X_train.shape[0]):\n",
        "      numerator = numerator + ((X_train[i] - X_train.mean()) * (y_train[i] - y_train.mean()))\n",
        "      denomenator = denomenator + ((X_train[i] - X_train.mean()) * (X_train[i] - X_train.mean()))\n",
        "\n",
        "    self.m = numerator / denomenator\n",
        "    self.b = y_train.mean() - (self.m * X_train.mean())\n",
        "\n",
        "  def predict(self,X_test):\n",
        "    print(X_test)\n",
        "    return self.m * X_test + self.b\n",
        "\n",
        "import numpy as np\n",
        "import pandas as pd\n",
        "\n",
        "file_path = \"/content/drive/MyDrive/datasets/placement.csv\" # dataset path\n",
        "df = pd.read_csv(file_path)\n",
        "df.head()\n",
        "\n",
        "X = df.iloc[:,0].values  # input is column 0 and values because want in the form of numpy array\n",
        "y = df.iloc[:,1].values  # output is column 1\n",
        "\n",
        "from sklearn.model_selection import train_test_split\n",
        "X_train,X_test,y_train,y_test = train_test_split(X,y,test_size=0.2,random_state=2)\n",
        "\n",
        "lr = ownLinearRegression()\n",
        "lr.fit(X_train,y_train)\n",
        "X_test[0]\n",
        "print(lr.predict(X_test[0]))\n",
        "\n",
        "\n",
        "\n"
      ]
    }
  ]
}