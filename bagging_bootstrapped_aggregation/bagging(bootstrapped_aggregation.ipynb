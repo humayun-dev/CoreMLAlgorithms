{
  "nbformat": 4,
  "nbformat_minor": 0,
  "metadata": {
    "colab": {
      "provenance": []
    },
    "kernelspec": {
      "name": "python3",
      "display_name": "Python 3"
    },
    "language_info": {
      "name": "python"
    }
  },
  "cells": [
    {
      "cell_type": "code",
      "execution_count": 16,
      "metadata": {
        "id": "yBrUi9hFRLtl"
      },
      "outputs": [],
      "source": [
        "# Bagging (Bootstrapped Aggregation) core concept implementation\n",
        "# Here random data is generated and random classifier is used instead of DT, SVM etc.\n",
        "# The accuracy will be low due to nature of the classifier in this code and can be improved by using the\n",
        "# DT, SVM or more powerful algorithm/classifier\n",
        "# Author: Muhammad Humayun Khan\n",
        "\n",
        "import numpy as np    # linear algebra\n",
        "from sklearn.datasets import make_classification    # using sklearn dataset for data generation\n",
        "from sklearn.model_selection import train_test_split    # model training and testing of data\n",
        "from collections import Counter\n",
        "\n",
        "# Generate a synthetic dataset\n",
        "X, y = make_classification(n_samples=1000, n_features=20, n_informative=15, n_redundant=5, random_state=42)\n",
        "\n",
        "# Step 2: Split the dataset into training and testing sets\n",
        "X_train, X_test, y_train, y_test = train_test_split(X, y, test_size=0.3, random_state=42)"
      ]
    },
    {
      "cell_type": "code",
      "source": [
        "# Define a simple random guessing classifier\n",
        "class RandomGuessClassifier:\n",
        "    def fit(self, X, y):\n",
        "      # np.unique returns two arrays, array of unique class labels and its count in the target (y)\n",
        "      # e.g. y = [0,1,0,0,1,1,2] then classes = [0,1,2], counts = [3,3,1]\n",
        "      self.classes_,self.class_counts_ = np.unique(y,return_counts=True)\n",
        "      self.class_probabilities_ = self.class_counts_ / y.shape[0]\n",
        "\n",
        "    # predicts new element\n",
        "    def predict(self, X):\n",
        "      random_guesses = np.random.choice(self.classes_, size=X.shape[0], p=self.class_probabilities_)\n",
        "      return random_guesses"
      ],
      "metadata": {
        "id": "qo19Y7fH3br-"
      },
      "execution_count": 17,
      "outputs": []
    },
    {
      "cell_type": "code",
      "source": [
        "# Define the Bagging Classifier\n",
        "class BaggingClassifier:\n",
        "    def __init__(self, base_estimator, n_estimators=10):\n",
        "        self.base_estimator = base_estimator    # base_estimator here is randomGuessClassifier\n",
        "        self.n_estimators = n_estimators        # no of classifier\n",
        "        self.models = []                        # store all the classifiers\n",
        "\n",
        "    def fit(self, X, y):\n",
        "        n_samples = X.shape[0]\n",
        "        for _ in range(self.n_estimators):\n",
        "            indices = np.random.choice(n_samples, n_samples, replace=True)    # bootstrap sample\n",
        "            X_sample, y_sample = X[indices], y[indices]\n",
        "            model = self.base_estimator()\n",
        "            model.fit(X_sample, y_sample)\n",
        "            self.models.append(model)\n",
        "\n",
        "    def predict(self, X):\n",
        "        predictions = np.zeros((self.n_estimators, X.shape[0]), dtype=int)\n",
        "        for i, model in enumerate(self.models):\n",
        "            predictions[i] = model.predict(X)\n",
        "        # Majority vote\n",
        "        final_predictions = [Counter(predictions[:, i]).most_common(1)[0][0] for i in range(X.shape[0])]\n",
        "        return np.array(final_predictions)\n"
      ],
      "metadata": {
        "id": "ghvKIj7c3kwC"
      },
      "execution_count": 18,
      "outputs": []
    },
    {
      "cell_type": "code",
      "source": [
        "# Train the Bagging Classifier on the training data\n",
        "bagging_model = BaggingClassifier(base_estimator=RandomGuessClassifier, n_estimators=100)\n",
        "bagging_model.fit(X_train, y_train)"
      ],
      "metadata": {
        "id": "Fo6-_UJt3rd0"
      },
      "execution_count": 19,
      "outputs": []
    },
    {
      "cell_type": "code",
      "source": [
        "# Make predictions on the test data\n",
        "y_pred = bagging_model.predict(X_test)"
      ],
      "metadata": {
        "id": "ImLNFqZt3xYP"
      },
      "execution_count": 20,
      "outputs": []
    },
    {
      "cell_type": "code",
      "source": [
        "# Evaluate the accuracy of the model\n",
        "accuracy = np.mean(y_pred == y_test)\n",
        "print(f'Accuracy of Bagging Classifier: {accuracy:.2f}')"
      ],
      "metadata": {
        "colab": {
          "base_uri": "https://localhost:8080/"
        },
        "id": "la6XgusX32uG",
        "outputId": "39f55894-d90e-4c23-9d68-aed46918d11c"
      },
      "execution_count": 21,
      "outputs": [
        {
          "output_type": "stream",
          "name": "stdout",
          "text": [
            "Accuracy of Bagging Classifier: 0.52\n"
          ]
        }
      ]
    }
  ]
}